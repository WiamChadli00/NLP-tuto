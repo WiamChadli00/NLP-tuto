{
 "cells": [
  {
   "cell_type": "code",
   "execution_count": 5,
   "id": "508ff847",
   "metadata": {},
   "outputs": [
    {
     "name": "stdout",
     "output_type": "stream",
     "text": [
      "Collecting spacy\n",
      "  Downloading spacy-3.5.0-cp39-cp39-win_amd64.whl (12.2 MB)\n",
      "     -------------------------------------- 12.2/12.2 MB 510.9 kB/s eta 0:00:00\n",
      "Collecting wasabi<1.2.0,>=0.9.1\n",
      "  Downloading wasabi-1.1.1-py3-none-any.whl (27 kB)\n",
      "Requirement already satisfied: jinja2 in c:\\users\\wiam.chadli\\anaconda3\\lib\\site-packages (from spacy) (2.11.3)\n",
      "Collecting murmurhash<1.1.0,>=0.28.0\n",
      "  Downloading murmurhash-1.0.9-cp39-cp39-win_amd64.whl (18 kB)\n",
      "Requirement already satisfied: smart-open<7.0.0,>=5.2.1 in c:\\users\\wiam.chadli\\anaconda3\\lib\\site-packages (from spacy) (5.2.1)\n",
      "Requirement already satisfied: packaging>=20.0 in c:\\users\\wiam.chadli\\anaconda3\\lib\\site-packages (from spacy) (21.3)\n",
      "Collecting typer<0.8.0,>=0.3.0\n",
      "  Downloading typer-0.7.0-py3-none-any.whl (38 kB)\n",
      "Requirement already satisfied: setuptools in c:\\users\\wiam.chadli\\anaconda3\\lib\\site-packages (from spacy) (63.4.1)\n",
      "Collecting langcodes<4.0.0,>=3.2.0\n",
      "  Downloading langcodes-3.3.0-py3-none-any.whl (181 kB)\n",
      "     ------------------------------------ 181.6/181.6 kB 782.7 kB/s eta 0:00:00\n",
      "Requirement already satisfied: requests<3.0.0,>=2.13.0 in c:\\users\\wiam.chadli\\anaconda3\\lib\\site-packages (from spacy) (2.28.1)\n",
      "Collecting spacy-legacy<3.1.0,>=3.0.11\n",
      "  Downloading spacy_legacy-3.0.12-py2.py3-none-any.whl (29 kB)\n",
      "Collecting spacy-loggers<2.0.0,>=1.0.0\n",
      "  Downloading spacy_loggers-1.0.4-py3-none-any.whl (11 kB)\n",
      "Collecting pydantic!=1.8,!=1.8.1,<1.11.0,>=1.7.4\n",
      "  Downloading pydantic-1.10.4-cp39-cp39-win_amd64.whl (2.1 MB)\n",
      "     ---------------------------------------- 2.1/2.1 MB 464.9 kB/s eta 0:00:00\n",
      "Collecting srsly<3.0.0,>=2.4.3\n",
      "  Downloading srsly-2.4.5-cp39-cp39-win_amd64.whl (481 kB)\n",
      "     ------------------------------------ 481.4/481.4 kB 528.8 kB/s eta 0:00:00\n",
      "Requirement already satisfied: tqdm<5.0.0,>=4.38.0 in c:\\users\\wiam.chadli\\anaconda3\\lib\\site-packages (from spacy) (4.64.1)\n",
      "Collecting pathy>=0.10.0\n",
      "  Downloading pathy-0.10.1-py3-none-any.whl (48 kB)\n",
      "     -------------------------------------- 48.9/48.9 kB 613.0 kB/s eta 0:00:00\n",
      "Requirement already satisfied: numpy>=1.15.0 in c:\\users\\wiam.chadli\\anaconda3\\lib\\site-packages (from spacy) (1.21.5)\n",
      "Collecting thinc<8.2.0,>=8.1.0\n",
      "  Downloading thinc-8.1.7-cp39-cp39-win_amd64.whl (1.3 MB)\n",
      "     ---------------------------------------- 1.3/1.3 MB 532.1 kB/s eta 0:00:00\n",
      "Collecting preshed<3.1.0,>=3.0.2\n",
      "  Downloading preshed-3.0.8-cp39-cp39-win_amd64.whl (96 kB)\n",
      "     -------------------------------------- 96.8/96.8 kB 460.3 kB/s eta 0:00:00\n",
      "Collecting cymem<2.1.0,>=2.0.2\n",
      "  Downloading cymem-2.0.7-cp39-cp39-win_amd64.whl (30 kB)\n",
      "Collecting catalogue<2.1.0,>=2.0.6\n",
      "  Downloading catalogue-2.0.8-py3-none-any.whl (17 kB)\n",
      "Requirement already satisfied: pyparsing!=3.0.5,>=2.0.2 in c:\\users\\wiam.chadli\\anaconda3\\lib\\site-packages (from packaging>=20.0->spacy) (3.0.9)\n",
      "Requirement already satisfied: typing-extensions>=4.2.0 in c:\\users\\wiam.chadli\\anaconda3\\lib\\site-packages (from pydantic!=1.8,!=1.8.1,<1.11.0,>=1.7.4->spacy) (4.3.0)\n",
      "Requirement already satisfied: idna<4,>=2.5 in c:\\users\\wiam.chadli\\anaconda3\\lib\\site-packages (from requests<3.0.0,>=2.13.0->spacy) (3.3)\n",
      "Requirement already satisfied: urllib3<1.27,>=1.21.1 in c:\\users\\wiam.chadli\\anaconda3\\lib\\site-packages (from requests<3.0.0,>=2.13.0->spacy) (1.26.11)\n",
      "Requirement already satisfied: charset-normalizer<3,>=2 in c:\\users\\wiam.chadli\\anaconda3\\lib\\site-packages (from requests<3.0.0,>=2.13.0->spacy) (2.0.4)\n",
      "Requirement already satisfied: certifi>=2017.4.17 in c:\\users\\wiam.chadli\\anaconda3\\lib\\site-packages (from requests<3.0.0,>=2.13.0->spacy) (2022.9.14)\n",
      "Collecting confection<1.0.0,>=0.0.1\n",
      "  Downloading confection-0.0.4-py3-none-any.whl (32 kB)\n",
      "Collecting blis<0.8.0,>=0.7.8\n",
      "  Downloading blis-0.7.9-cp39-cp39-win_amd64.whl (7.0 MB)\n",
      "     ---------------------------------------- 7.0/7.0 MB 487.1 kB/s eta 0:00:00\n",
      "Requirement already satisfied: colorama in c:\\users\\wiam.chadli\\anaconda3\\lib\\site-packages (from tqdm<5.0.0,>=4.38.0->spacy) (0.4.5)\n",
      "Requirement already satisfied: click<9.0.0,>=7.1.1 in c:\\users\\wiam.chadli\\anaconda3\\lib\\site-packages (from typer<0.8.0,>=0.3.0->spacy) (8.0.4)\n",
      "Collecting colorama\n",
      "  Downloading colorama-0.4.6-py2.py3-none-any.whl (25 kB)\n",
      "Requirement already satisfied: MarkupSafe>=0.23 in c:\\users\\wiam.chadli\\anaconda3\\lib\\site-packages (from jinja2->spacy) (2.0.1)\n",
      "Installing collected packages: cymem, spacy-loggers, spacy-legacy, pydantic, murmurhash, langcodes, colorama, catalogue, blis, wasabi, srsly, preshed, typer, confection, thinc, pathy, spacy\n",
      "  Attempting uninstall: colorama\n",
      "    Found existing installation: colorama 0.4.5\n",
      "    Uninstalling colorama-0.4.5:\n",
      "      Successfully uninstalled colorama-0.4.5\n",
      "Successfully installed blis-0.7.9 catalogue-2.0.8 colorama-0.4.6 confection-0.0.4 cymem-2.0.7 langcodes-3.3.0 murmurhash-1.0.9 pathy-0.10.1 preshed-3.0.8 pydantic-1.10.4 spacy-3.5.0 spacy-legacy-3.0.12 spacy-loggers-1.0.4 srsly-2.4.5 thinc-8.1.7 typer-0.7.0 wasabi-1.1.1\n"
     ]
    },
    {
     "name": "stderr",
     "output_type": "stream",
     "text": [
      "ERROR: pip's dependency resolver does not currently take into account all the packages that are installed. This behaviour is the source of the following dependency conflicts.\n",
      "anaconda-project 0.11.1 requires ruamel-yaml, which is not installed.\n"
     ]
    },
    {
     "name": "stdout",
     "output_type": "stream",
     "text": [
      "Collecting en-core-web-md==3.5.0\n",
      "  Downloading https://github.com/explosion/spacy-models/releases/download/en_core_web_md-3.5.0/en_core_web_md-3.5.0-py3-none-any.whl (42.8 MB)\n",
      "     -------------------------------------- 42.8/42.8 MB 526.1 kB/s eta 0:00:00\n",
      "Requirement already satisfied: spacy<3.6.0,>=3.5.0 in c:\\users\\wiam.chadli\\anaconda3\\lib\\site-packages (from en-core-web-md==3.5.0) (3.5.0)\n",
      "Requirement already satisfied: tqdm<5.0.0,>=4.38.0 in c:\\users\\wiam.chadli\\anaconda3\\lib\\site-packages (from spacy<3.6.0,>=3.5.0->en-core-web-md==3.5.0) (4.64.1)\n",
      "Requirement already satisfied: pathy>=0.10.0 in c:\\users\\wiam.chadli\\anaconda3\\lib\\site-packages (from spacy<3.6.0,>=3.5.0->en-core-web-md==3.5.0) (0.10.1)\n",
      "Requirement already satisfied: jinja2 in c:\\users\\wiam.chadli\\anaconda3\\lib\\site-packages (from spacy<3.6.0,>=3.5.0->en-core-web-md==3.5.0) (2.11.3)\n",
      "Requirement already satisfied: smart-open<7.0.0,>=5.2.1 in c:\\users\\wiam.chadli\\anaconda3\\lib\\site-packages (from spacy<3.6.0,>=3.5.0->en-core-web-md==3.5.0) (5.2.1)\n",
      "Requirement already satisfied: langcodes<4.0.0,>=3.2.0 in c:\\users\\wiam.chadli\\anaconda3\\lib\\site-packages (from spacy<3.6.0,>=3.5.0->en-core-web-md==3.5.0) (3.3.0)\n",
      "Requirement already satisfied: thinc<8.2.0,>=8.1.0 in c:\\users\\wiam.chadli\\anaconda3\\lib\\site-packages (from spacy<3.6.0,>=3.5.0->en-core-web-md==3.5.0) (8.1.7)\n",
      "Requirement already satisfied: requests<3.0.0,>=2.13.0 in c:\\users\\wiam.chadli\\anaconda3\\lib\\site-packages (from spacy<3.6.0,>=3.5.0->en-core-web-md==3.5.0) (2.28.1)\n",
      "Requirement already satisfied: pydantic!=1.8,!=1.8.1,<1.11.0,>=1.7.4 in c:\\users\\wiam.chadli\\anaconda3\\lib\\site-packages (from spacy<3.6.0,>=3.5.0->en-core-web-md==3.5.0) (1.10.4)\n",
      "Requirement already satisfied: wasabi<1.2.0,>=0.9.1 in c:\\users\\wiam.chadli\\anaconda3\\lib\\site-packages (from spacy<3.6.0,>=3.5.0->en-core-web-md==3.5.0) (1.1.1)\n",
      "Requirement already satisfied: catalogue<2.1.0,>=2.0.6 in c:\\users\\wiam.chadli\\anaconda3\\lib\\site-packages (from spacy<3.6.0,>=3.5.0->en-core-web-md==3.5.0) (2.0.8)\n",
      "Requirement already satisfied: murmurhash<1.1.0,>=0.28.0 in c:\\users\\wiam.chadli\\anaconda3\\lib\\site-packages (from spacy<3.6.0,>=3.5.0->en-core-web-md==3.5.0) (1.0.9)\n",
      "Requirement already satisfied: spacy-loggers<2.0.0,>=1.0.0 in c:\\users\\wiam.chadli\\anaconda3\\lib\\site-packages (from spacy<3.6.0,>=3.5.0->en-core-web-md==3.5.0) (1.0.4)\n",
      "Requirement already satisfied: setuptools in c:\\users\\wiam.chadli\\anaconda3\\lib\\site-packages (from spacy<3.6.0,>=3.5.0->en-core-web-md==3.5.0) (63.4.1)\n",
      "Requirement already satisfied: cymem<2.1.0,>=2.0.2 in c:\\users\\wiam.chadli\\anaconda3\\lib\\site-packages (from spacy<3.6.0,>=3.5.0->en-core-web-md==3.5.0) (2.0.7)\n",
      "Requirement already satisfied: preshed<3.1.0,>=3.0.2 in c:\\users\\wiam.chadli\\anaconda3\\lib\\site-packages (from spacy<3.6.0,>=3.5.0->en-core-web-md==3.5.0) (3.0.8)\n",
      "Requirement already satisfied: srsly<3.0.0,>=2.4.3 in c:\\users\\wiam.chadli\\anaconda3\\lib\\site-packages (from spacy<3.6.0,>=3.5.0->en-core-web-md==3.5.0) (2.4.5)\n",
      "Requirement already satisfied: typer<0.8.0,>=0.3.0 in c:\\users\\wiam.chadli\\anaconda3\\lib\\site-packages (from spacy<3.6.0,>=3.5.0->en-core-web-md==3.5.0) (0.7.0)\n",
      "Requirement already satisfied: packaging>=20.0 in c:\\users\\wiam.chadli\\anaconda3\\lib\\site-packages (from spacy<3.6.0,>=3.5.0->en-core-web-md==3.5.0) (21.3)\n",
      "Requirement already satisfied: spacy-legacy<3.1.0,>=3.0.11 in c:\\users\\wiam.chadli\\anaconda3\\lib\\site-packages (from spacy<3.6.0,>=3.5.0->en-core-web-md==3.5.0) (3.0.12)\n",
      "Requirement already satisfied: numpy>=1.15.0 in c:\\users\\wiam.chadli\\anaconda3\\lib\\site-packages (from spacy<3.6.0,>=3.5.0->en-core-web-md==3.5.0) (1.21.5)\n",
      "Requirement already satisfied: pyparsing!=3.0.5,>=2.0.2 in c:\\users\\wiam.chadli\\anaconda3\\lib\\site-packages (from packaging>=20.0->spacy<3.6.0,>=3.5.0->en-core-web-md==3.5.0) (3.0.9)\n",
      "Requirement already satisfied: typing-extensions>=4.2.0 in c:\\users\\wiam.chadli\\anaconda3\\lib\\site-packages (from pydantic!=1.8,!=1.8.1,<1.11.0,>=1.7.4->spacy<3.6.0,>=3.5.0->en-core-web-md==3.5.0) (4.3.0)\n",
      "Requirement already satisfied: urllib3<1.27,>=1.21.1 in c:\\users\\wiam.chadli\\anaconda3\\lib\\site-packages (from requests<3.0.0,>=2.13.0->spacy<3.6.0,>=3.5.0->en-core-web-md==3.5.0) (1.26.11)\n",
      "Requirement already satisfied: idna<4,>=2.5 in c:\\users\\wiam.chadli\\anaconda3\\lib\\site-packages (from requests<3.0.0,>=2.13.0->spacy<3.6.0,>=3.5.0->en-core-web-md==3.5.0) (3.3)\n",
      "Requirement already satisfied: certifi>=2017.4.17 in c:\\users\\wiam.chadli\\anaconda3\\lib\\site-packages (from requests<3.0.0,>=2.13.0->spacy<3.6.0,>=3.5.0->en-core-web-md==3.5.0) (2022.9.14)\n",
      "Requirement already satisfied: charset-normalizer<3,>=2 in c:\\users\\wiam.chadli\\anaconda3\\lib\\site-packages (from requests<3.0.0,>=2.13.0->spacy<3.6.0,>=3.5.0->en-core-web-md==3.5.0) (2.0.4)\n",
      "Requirement already satisfied: blis<0.8.0,>=0.7.8 in c:\\users\\wiam.chadli\\anaconda3\\lib\\site-packages (from thinc<8.2.0,>=8.1.0->spacy<3.6.0,>=3.5.0->en-core-web-md==3.5.0) (0.7.9)\n",
      "Requirement already satisfied: confection<1.0.0,>=0.0.1 in c:\\users\\wiam.chadli\\anaconda3\\lib\\site-packages (from thinc<8.2.0,>=8.1.0->spacy<3.6.0,>=3.5.0->en-core-web-md==3.5.0) (0.0.4)\n",
      "Requirement already satisfied: colorama in c:\\users\\wiam.chadli\\anaconda3\\lib\\site-packages (from tqdm<5.0.0,>=4.38.0->spacy<3.6.0,>=3.5.0->en-core-web-md==3.5.0) (0.4.6)\n",
      "Requirement already satisfied: click<9.0.0,>=7.1.1 in c:\\users\\wiam.chadli\\anaconda3\\lib\\site-packages (from typer<0.8.0,>=0.3.0->spacy<3.6.0,>=3.5.0->en-core-web-md==3.5.0) (8.0.4)\n",
      "Requirement already satisfied: MarkupSafe>=0.23 in c:\\users\\wiam.chadli\\anaconda3\\lib\\site-packages (from jinja2->spacy<3.6.0,>=3.5.0->en-core-web-md==3.5.0) (2.0.1)\n",
      "Installing collected packages: en-core-web-md\n",
      "Successfully installed en-core-web-md-3.5.0\n",
      "\u001b[38;5;2m[+] Download and installation successful\u001b[0m\n",
      "You can now load the package via spacy.load('en_core_web_md')\n"
     ]
    }
   ],
   "source": [
    "#!pip install spacy\n",
    "#!python -m spacy download en_core_web_md"
   ]
  },
  {
   "cell_type": "markdown",
   "id": "49ab2052",
   "metadata": {},
   "source": [
    "# bag of words"
   ]
  },
  {
   "cell_type": "code",
   "execution_count": 1,
   "id": "cab30ff8",
   "metadata": {},
   "outputs": [],
   "source": [
    "from sklearn.feature_extraction.text import CountVectorizer"
   ]
  },
  {
   "cell_type": "code",
   "execution_count": 2,
   "id": "c298536b",
   "metadata": {},
   "outputs": [],
   "source": [
    "train_x=[\"I love the book\",\"This is a great book\",\"The fit is great\",\"I love the shoes\"]\n",
    "train_y=[\"BOOKS\",\"BOOKS\",\"CLOTHING\",\"CLOTHING\"]"
   ]
  },
  {
   "cell_type": "markdown",
   "id": "c75be051",
   "metadata": {},
   "source": [
    "vectorizer= CountVectorizer(binary=True,ngram_range=(1,2))\n",
    "train_x_vectors = vectorizer.fit_transform(train_x)\n",
    "print(vectorizer.get_feature_names_out())"
   ]
  },
  {
   "cell_type": "code",
   "execution_count": 4,
   "id": "795f6a2f",
   "metadata": {},
   "outputs": [
    {
     "name": "stdout",
     "output_type": "stream",
     "text": [
      "[[1 0 0 0 0 0 0 1 1 0 1 1 0 0 0 0]\n",
      " [1 0 0 1 1 1 1 0 0 0 0 0 0 0 1 1]\n",
      " [0 1 1 1 0 1 1 0 0 0 1 0 1 0 0 0]\n",
      " [0 0 0 0 0 0 0 1 1 1 1 0 0 1 0 0]]\n"
     ]
    }
   ],
   "source": [
    "print(train_x_vectors.toarray())"
   ]
  },
  {
   "cell_type": "code",
   "execution_count": 5,
   "id": "2d5fda56",
   "metadata": {},
   "outputs": [],
   "source": [
    "from sklearn import svm"
   ]
  },
  {
   "cell_type": "code",
   "execution_count": 6,
   "id": "9abcf8ee",
   "metadata": {},
   "outputs": [
    {
     "data": {
      "text/plain": [
       "SVC(kernel='linear')"
      ]
     },
     "execution_count": 6,
     "metadata": {},
     "output_type": "execute_result"
    }
   ],
   "source": [
    "clf_svm= svm.SVC(kernel=\"linear\")\n",
    "clf_svm.fit(train_x_vectors,train_y)"
   ]
  },
  {
   "cell_type": "code",
   "execution_count": 7,
   "id": "8b0b5405",
   "metadata": {},
   "outputs": [
    {
     "data": {
      "text/plain": [
       "array(['BOOKS'], dtype='<U8')"
      ]
     },
     "execution_count": 7,
     "metadata": {},
     "output_type": "execute_result"
    }
   ],
   "source": [
    "test_x= vectorizer.transform([\"i will buy a book\"])\n",
    "clf_svm.predict(test_x)"
   ]
  },
  {
   "cell_type": "markdown",
   "id": "7f3d5948",
   "metadata": {},
   "source": [
    "# word vectors"
   ]
  },
  {
   "cell_type": "code",
   "execution_count": 9,
   "id": "c84e7cb3",
   "metadata": {},
   "outputs": [],
   "source": [
    "\n",
    "import spacy\n",
    "\n",
    "nlp = spacy.load(\"en_core_web_md\")\n",
    "     "
   ]
  },
  {
   "cell_type": "code",
   "execution_count": 19,
   "id": "c2e55fb4",
   "metadata": {},
   "outputs": [],
   "source": [
    "doc=[nlp(text) for text in train_x]\n",
    "train_x_word_vectors=[x.vector for x in doc]"
   ]
  },
  {
   "cell_type": "code",
   "execution_count": 17,
   "id": "049d9dc7",
   "metadata": {},
   "outputs": [
    {
     "name": "stdout",
     "output_type": "stream",
     "text": [
      "[I love the book, This is a great book, The fit is great, I love the shoes]\n"
     ]
    }
   ],
   "source": [
    "print(doc)"
   ]
  },
  {
   "cell_type": "code",
   "execution_count": 18,
   "id": "f5a9444e",
   "metadata": {},
   "outputs": [
    {
     "name": "stdout",
     "output_type": "stream",
     "text": [
      "[-1.3978975  -0.94314    -1.1927751  -4.3043246  -1.69008    -2.18875\n",
      "  2.8568673   4.1011753  -3.6249747   4.17611     7.12575     2.2885249\n",
      " -6.495055   -0.703155    3.46178    -0.9427      4.1357403  -3.3983903\n",
      " -0.04899997  1.3973      1.5476775   1.4060001  -0.07001507 -4.591998\n",
      " -1.038875   -1.8461976  -3.6312752   0.4407499  -1.7652375   3.388475\n",
      " -0.4016     -1.471375   -0.39702505  0.24449998 -0.04592732 -1.4172026\n",
      " -1.167125    0.5882125   2.6957998  -0.5626705  -1.7447001   3.973075\n",
      " -0.671685   -1.0611899   4.576425    2.9842675  -2.49175    -2.6355624\n",
      "  0.5972425   0.59040004 -0.792125   -0.590725    0.33869502 -3.42171\n",
      " -3.4163604  -0.1711675  -0.786485    1.4665233   3.89455     1.9638373\n",
      "  5.5787754  -1.3022224  -0.651945    0.43172497 -2.4435027   0.596875\n",
      " -3.6072845  -5.0790253   3.3520503   3.8547673  -0.87257504  2.2705574\n",
      " -0.5900501  -2.054635    3.19281     3.36905    -2.8925076   1.6652\n",
      " -2.5049374  -2.7379746  -2.37408     0.8923325   5.0625834  -1.2852752\n",
      "  1.9027183   1.0960624  -0.52304995 -0.95255005 -1.9461374  -2.310925\n",
      " -1.098875    1.8177226   4.2221003  -6.537125    0.48603004 -3.50084\n",
      "  0.5391325  -0.50697494  1.2737525   0.521275    1.321665    3.1960826\n",
      "  2.002865    2.8237524  -1.3757352  -0.17954004 -1.6516751  -0.5081499\n",
      " -1.5433998  -1.4201249   1.3113251  -2.2571251   0.84857243  1.714025\n",
      "  1.82535     0.29791498 -2.233875   -2.3855677  -1.1692325   1.18858\n",
      " -2.2354374  -2.14905    -0.78332496  4.1412625   1.0825651   1.1799951\n",
      "  2.902325   -3.5272      0.34348005 -2.30878    -4.9016647   2.4042501\n",
      " -0.46282256 -2.743905   -2.4401073   3.803725   -3.1931999  -2.5288126\n",
      "  5.5490255  -5.0140996  -3.4048173   0.31995994  1.6301392   2.1406627\n",
      " -2.0564826   1.1080999  -1.593325    0.20552728 -3.6550498  -0.68221736\n",
      " -2.064635    3.63225    -0.97382474 -2.821975   -1.6865926   2.7102222\n",
      "  3.1241271   0.83275247 -1.4126899  -0.287584   -0.3687275  -5.2711525\n",
      " -1.8511002   1.1304475  -2.5447674   0.17523009 -2.3348875  -1.7706876\n",
      " -2.5483801  -0.93720007  3.9849     -1.0662625  -1.1497501   2.5656776\n",
      "  4.118925   -3.53025    -1.0182877   1.2404      1.2558925  -1.8724298\n",
      "  0.28065002 -0.24649996  5.1748123  -0.51769006  0.14942479  3.3902276\n",
      " -1.0006975  -3.0822291   4.4143      2.60167    -1.5609701   2.0564725\n",
      " -2.053175    1.6127999   2.1787999  -1.49475    -6.6126003   2.3603249\n",
      " -2.24825     6.54807    -1.2758749  -1.4058051  -4.0160775  -1.2164625\n",
      "  0.6155751  -2.1410775   1.1037402  -0.45322743 -0.76562977 -2.0316248\n",
      "  3.3534575   0.906615    1.78155     3.0272427  -1.490925    2.8774002\n",
      " -3.5095177   0.9973675  -0.25279248 -0.6435975  -1.468935    2.167055\n",
      " -1.5119425   5.634525   -1.8386     -0.34084988  0.37256616  3.5403275\n",
      "  2.133315    1.0783851  -3.0888252  -5.5216255   1.7827001  -1.00615\n",
      " -0.92117244  2.1876426  -3.1331475   6.675755   -1.2426828  -1.1250799\n",
      " -4.355845   -2.8189998   3.16365     1.7629576   5.450925   -0.41921014\n",
      " -2.0778     -2.4137576   4.885243    1.3854975  -1.960375   -0.20622507\n",
      " -6.011125   -1.2472365  -1.4729     -1.9700327  -0.14459997  0.09206754\n",
      " -4.2257      2.7291002   3.19189     3.539985    5.323       2.4565349\n",
      "  3.4231699  -3.2712998  -0.7532724   2.5230036  -6.0874753   1.398425\n",
      " -0.3443627  -3.8744974  -4.01758    -0.67568743 -1.0210674   0.18305254\n",
      "  0.52802503 -5.6001253  -0.54296505  2.2708325  -4.5382824  -2.6007726\n",
      "  2.742875    1.1766725   2.9447925  -1.3840849   2.25675     1.28454\n",
      " -1.8143474   0.09939742  3.9096823  -0.40517497  2.289015   -0.37639502\n",
      " -2.642429   -0.8754725   2.2959075  -0.20367491 -7.441825    1.10268   ]\n"
     ]
    }
   ],
   "source": [
    "print(doc[0].vector)"
   ]
  },
  {
   "cell_type": "code",
   "execution_count": 20,
   "id": "2ee8094d",
   "metadata": {},
   "outputs": [
    {
     "data": {
      "text/plain": [
       "SVC(kernel='linear')"
      ]
     },
     "execution_count": 20,
     "metadata": {},
     "output_type": "execute_result"
    }
   ],
   "source": [
    "clf_svm_wv= svm.SVC(kernel=\"linear\")\n",
    "clf_svm_wv.fit(train_x_word_vectors,train_y)"
   ]
  },
  {
   "cell_type": "code",
   "execution_count": 42,
   "id": "6e17b2b4",
   "metadata": {},
   "outputs": [
    {
     "data": {
      "text/plain": [
       "array(['BOOKS'], dtype='<U8')"
      ]
     },
     "execution_count": 42,
     "metadata": {},
     "output_type": "execute_result"
    }
   ],
   "source": [
    "test_x =[\"pages\"]\n",
    "test_x_docs=[nlp(text) for text in test_x]\n",
    "test_x_wv=[x.vector for x in test_x_docs]\n",
    "clf_svm_wv.predict(test_x_wv)"
   ]
  },
  {
   "cell_type": "markdown",
   "id": "63180f21",
   "metadata": {},
   "source": [
    "## Stemming / Lemmatization"
   ]
  },
  {
   "cell_type": "code",
   "execution_count": 1,
   "id": "68e1df8e",
   "metadata": {},
   "outputs": [
    {
     "name": "stderr",
     "output_type": "stream",
     "text": [
      "[nltk_data] Downloading package wordnet to\n",
      "[nltk_data]     C:\\Users\\wiam.chadli\\AppData\\Roaming\\nltk_data...\n",
      "[nltk_data] Downloading package punkt to\n",
      "[nltk_data]     C:\\Users\\wiam.chadli\\AppData\\Roaming\\nltk_data...\n",
      "[nltk_data]   Unzipping tokenizers\\punkt.zip.\n",
      "[nltk_data] Downloading package stopwords to\n",
      "[nltk_data]     C:\\Users\\wiam.chadli\\AppData\\Roaming\\nltk_data...\n",
      "[nltk_data]   Unzipping corpora\\stopwords.zip.\n"
     ]
    },
    {
     "data": {
      "text/plain": [
       "True"
      ]
     },
     "execution_count": 1,
     "metadata": {},
     "output_type": "execute_result"
    }
   ],
   "source": [
    "import nltk \n",
    "nltk.download('wordnet')\n",
    "nltk.download('punkt')\n",
    "nltk.download('stopwords')"
   ]
  },
  {
   "cell_type": "markdown",
   "id": "c57d90fc",
   "metadata": {},
   "source": [
    "## STEMMING"
   ]
  },
  {
   "cell_type": "code",
   "execution_count": 12,
   "id": "e257195f",
   "metadata": {},
   "outputs": [
    {
     "data": {
      "text/plain": [
       "'ye i am actual read the book and it is veri interest'"
      ]
     },
     "execution_count": 12,
     "metadata": {},
     "output_type": "execute_result"
    }
   ],
   "source": [
    "from nltk.tokenize import word_tokenize\n",
    "from nltk.stem import PorterStemmer\n",
    "\n",
    "stemmer = PorterStemmer()\n",
    "\n",
    "Phrase = \"yes i am actually reading the book and it is very interesting\"\n",
    "words = word_tokenize(Phrase)\n",
    "stemmed_words=[]\n",
    "for word in words:\n",
    "    stemmed_words.append(stemmer.stem(word))\n",
    "    \n",
    "\" \".join(stemmed_words)"
   ]
  },
  {
   "cell_type": "markdown",
   "id": "3781b22c",
   "metadata": {},
   "source": [
    "## LEMMATIZATION"
   ]
  },
  {
   "cell_type": "code",
   "execution_count": 8,
   "id": "3738d864",
   "metadata": {},
   "outputs": [
    {
     "name": "stderr",
     "output_type": "stream",
     "text": [
      "[nltk_data] Downloading package omw-1.4 to\n",
      "[nltk_data]     C:\\Users\\wiam.chadli\\AppData\\Roaming\\nltk_data...\n"
     ]
    },
    {
     "data": {
      "text/plain": [
       "True"
      ]
     },
     "execution_count": 8,
     "metadata": {},
     "output_type": "execute_result"
    }
   ],
   "source": [
    "nltk.download('omw-1.4')"
   ]
  },
  {
   "cell_type": "code",
   "execution_count": 11,
   "id": "c23ab71d",
   "metadata": {},
   "outputs": [
    {
     "data": {
      "text/plain": [
       "'yes i be actually read the book and it be very interest'"
      ]
     },
     "execution_count": 11,
     "metadata": {},
     "output_type": "execute_result"
    }
   ],
   "source": [
    "from nltk.stem import WordNetLemmatizer\n",
    "lemmatizer = WordNetLemmatizer()\n",
    "phrase= \"yes i am actually reading the book and it is very interesting\"\n",
    "words = word_tokenize(phrase)\n",
    "lemmatized_words=[]\n",
    "for word in words:\n",
    "    lemmatized_words.append(lemmatizer.lemmatize(word, pos='v'))\n",
    "\" \".join(lemmatized_words)"
   ]
  },
  {
   "cell_type": "markdown",
   "id": "350348a0",
   "metadata": {},
   "source": [
    "## Stopwords removal "
   ]
  },
  {
   "cell_type": "code",
   "execution_count": 18,
   "id": "6d4c604e",
   "metadata": {},
   "outputs": [
    {
     "data": {
      "text/plain": [
       "'This interesting idea stated , let extend even'"
      ]
     },
     "execution_count": 18,
     "metadata": {},
     "output_type": "execute_result"
    }
   ],
   "source": [
    "from nltk.corpus import stopwords\n",
    "stop_words= stopwords.words('english')\n",
    "\n",
    "\n",
    "phrase=\"This is a very interesting idea that you stated, let me extend it even further\"\n",
    "words= word_tokenize(phrase)\n",
    "remove_stopwords=[]\n",
    "for word in words:\n",
    "    if word not in stop_words:\n",
    "        remove_stopwords.append(word)\n",
    "        \n",
    "\" \".join(remove_stopwords)\n",
    "        \n",
    "    "
   ]
  },
  {
   "cell_type": "code",
   "execution_count": 3,
   "id": "8a361816",
   "metadata": {},
   "outputs": [
    {
     "name": "stdout",
     "output_type": "stream",
     "text": [
      "Collecting textblob\n",
      "  Downloading textblob-0.17.1-py2.py3-none-any.whl (636 kB)\n",
      "     ------------------------------------ 636.8/636.8 kB 409.0 kB/s eta 0:00:00\n",
      "Requirement already satisfied: nltk>=3.1 in c:\\users\\wiam.chadli\\anaconda3\\lib\\site-packages (from textblob) (3.7)\n",
      "Requirement already satisfied: click in c:\\users\\wiam.chadli\\anaconda3\\lib\\site-packages (from nltk>=3.1->textblob) (8.0.4)\n",
      "Requirement already satisfied: regex>=2021.8.3 in c:\\users\\wiam.chadli\\anaconda3\\lib\\site-packages (from nltk>=3.1->textblob) (2022.7.9)\n",
      "Requirement already satisfied: joblib in c:\\users\\wiam.chadli\\anaconda3\\lib\\site-packages (from nltk>=3.1->textblob) (1.1.0)\n",
      "Requirement already satisfied: tqdm in c:\\users\\wiam.chadli\\anaconda3\\lib\\site-packages (from nltk>=3.1->textblob) (4.64.1)\n",
      "Requirement already satisfied: colorama in c:\\users\\wiam.chadli\\anaconda3\\lib\\site-packages (from click->nltk>=3.1->textblob) (0.4.6)\n",
      "Installing collected packages: textblob\n",
      "Successfully installed textblob-0.17.1\n"
     ]
    }
   ],
   "source": [
    "!pip install textblob"
   ]
  },
  {
   "cell_type": "code",
   "execution_count": 12,
   "id": "bc314150",
   "metadata": {},
   "outputs": [
    {
     "name": "stderr",
     "output_type": "stream",
     "text": [
      "[nltk_data] Downloading package averaged_perceptron_tagger to\n",
      "[nltk_data]     C:\\Users\\wiam.chadli\\AppData\\Roaming\\nltk_data...\n",
      "[nltk_data]   Unzipping taggers\\averaged_perceptron_tagger.zip.\n"
     ]
    },
    {
     "data": {
      "text/plain": [
       "True"
      ]
     },
     "execution_count": 12,
     "metadata": {},
     "output_type": "execute_result"
    }
   ],
   "source": [
    "import nltk\n",
    "nltk.download('averaged_perceptron_tagger')"
   ]
  },
  {
   "cell_type": "code",
   "execution_count": 2,
   "id": "947e8645",
   "metadata": {},
   "outputs": [
    {
     "data": {
      "text/plain": [
       "TextBlob(\"fall \")"
      ]
     },
     "execution_count": 2,
     "metadata": {},
     "output_type": "execute_result"
    }
   ],
   "source": [
    "import textblob   \n",
    "from textblob import TextBlob\n",
    "text=\"falg \"\n",
    "blob = TextBlob(text)\n",
    "blob.correct()\n"
   ]
  },
  {
   "cell_type": "markdown",
   "id": "72ecd69a",
   "metadata": {},
   "source": [
    "\"\"\"blob.tags\n",
    "blob.sentiment\"\"\""
   ]
  },
  {
   "cell_type": "code",
   "execution_count": null,
   "id": "52ca8a85",
   "metadata": {},
   "outputs": [],
   "source": []
  }
 ],
 "metadata": {
  "kernelspec": {
   "display_name": "Python 3 (ipykernel)",
   "language": "python",
   "name": "python3"
  },
  "language_info": {
   "codemirror_mode": {
    "name": "ipython",
    "version": 3
   },
   "file_extension": ".py",
   "mimetype": "text/x-python",
   "name": "python",
   "nbconvert_exporter": "python",
   "pygments_lexer": "ipython3",
   "version": "3.9.13"
  }
 },
 "nbformat": 4,
 "nbformat_minor": 5
}
